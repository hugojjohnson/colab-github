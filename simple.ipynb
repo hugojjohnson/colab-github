{
  "nbformat": 4,
  "nbformat_minor": 0,
  "metadata": {
    "colab": {
      "provenance": [],
      "authorship_tag": "ABX9TyO7Gwfb7l5uKtbWjSPQYJ1K",
      "include_colab_link": true
    },
    "kernelspec": {
      "name": "python3",
      "display_name": "Python 3"
    },
    "language_info": {
      "name": "python"
    }
  },
  "cells": [
    {
      "cell_type": "markdown",
      "metadata": {
        "id": "view-in-github",
        "colab_type": "text"
      },
      "source": [
        "<a href=\"https://colab.research.google.com/github/hugojjohnson/colab-github/blob/main/simple.ipynb\" target=\"_parent\"><img src=\"https://colab.research.google.com/assets/colab-badge.svg\" alt=\"Open In Colab\"/></a>"
      ]
    },
    {
      "cell_type": "code",
      "execution_count": null,
      "metadata": {
        "colab": {
          "base_uri": "https://localhost:8080/"
        },
        "id": "3bxRwybbSBEF",
        "outputId": "9b710a2d-1f80-4f74-e7bd-0678adb181d5"
      },
      "outputs": [
        {
          "output_type": "stream",
          "name": "stdout",
          "text": [
            "/content/drive/MyDrive/Colab Notebooks/colab-github\n",
            "'Colab with Github'   README.md\n"
          ]
        }
      ],
      "source": [
        "# from google.colab import drive\n",
        "# drive.mount('/content/drive')\n",
        "# !ls /content/drive/MyDrive/Colab\\ Notebooks/02456-deep-learning-project/ # REPLACE With the path to your drive\n",
        "%cd /content/drive/MyDrive/Colab\\ Notebooks/colab-github/\n",
        "!ls\n",
        "# !git clone https://github.com/hugojjohnson/colab-github"
      ]
    },
    {
      "cell_type": "code",
      "source": [
        "from google.colab import drive\n",
        "drive.mount('/content/drive')"
      ],
      "metadata": {
        "id": "F7sAzhoJYBEx"
      },
      "execution_count": null,
      "outputs": []
    },
    {
      "cell_type": "code",
      "source": [
        "!git config --global user.name \"Hugo Johnson\"\n",
        "!git config --global user.email \"hugojohnson271@gmail.com\""
      ],
      "metadata": {
        "id": "hj2E7KfBVIBz"
      },
      "execution_count": null,
      "outputs": []
    },
    {
      "cell_type": "code",
      "source": [
        "!git add --all\n",
        "!git commit -m \"Added .ipynb\"\n",
        "!git push"
      ],
      "metadata": {
        "colab": {
          "base_uri": "https://localhost:8080/"
        },
        "id": "1fg57jzjTBep",
        "outputId": "373d3dd5-f978-42e8-f084-5da993c2a649"
      },
      "execution_count": null,
      "outputs": [
        {
          "output_type": "stream",
          "name": "stdout",
          "text": [
            "[main 35770c1] Added .ipynb\n",
            " 1 file changed, 1 insertion(+)\n",
            " create mode 100644 Colab with Github\n",
            "fatal: could not read Username for 'https://github.com': No such device or address\n"
          ]
        }
      ]
    },
    {
      "cell_type": "code",
      "source": [],
      "metadata": {
        "id": "1TUXd4ZiTCin"
      },
      "execution_count": null,
      "outputs": []
    }
  ]
}